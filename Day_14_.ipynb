{
 "cells": [
  {
   "cell_type": "code",
   "execution_count": 2,
   "metadata": {},
   "outputs": [],
   "source": [
    "import pandas as pd "
   ]
  },
  {
   "cell_type": "code",
   "execution_count": null,
   "metadata": {},
   "outputs": [],
   "source": [
    "data = {\n",
    "    'EmployeeID': [1, 2, 3, 4],\n",
    "    'FirstName': ['John', 'Jane', 'Michael', 'Emily'],\n",
    "    'LastName': ['Doe',None, 'Johnson A 2004', 'Doe'],\n",
    "    'BirthDate': ['1980-01-15', '1985-03-22', '1990-07-30', '1992-12-05'],\n",
    "    'HireDate': ['2010-06-01', '2012-09-15', '2015-11-20', '2018-01-10'],\n",
    "    'JobTitle': ['Software Engineer', 'Project Manager', 'Data Analyst', 'UX Designer'],\n",
    "    'Salary': [75000.00, 85000.00, 65000.00, 70000.00]\n",
    "}\n",
    "tab = pd.DataFrame(data)\n",
    "# print(tab)\n",
    "# tab.to_csv('employees.csv', index=False)\n",
    "# df= pd.read_csv(\"employees.csv\")\n",
    "# df.head()\n",
    "# df.isnull().sum()\n",
    "# df.tail()\n",
    "# df.describe()\n",
    "# df['Salary']\n",
    "# df.iloc[0:2]\n",
    "# sep=pd.DataFrame(df[df['Salary']>70000])\n",
    "# print(sep)\n",
    "# tab.dropna()\n",
    "# df.fillna(\"null\")\n",
    "# tab.rename(columns={'EmployeeID':'ID'})\n",
    "# df.groupby('JobTitle').mean()\n",
    "# df['Salary'].sum()\n",
    "# df.head()\n",
    "# df.isnull().sum()\n",
    "# print(df.duplicated().sum())\n",
    "# print(df.dropna().sum())\n",
    "# print()\n",
    "# df['salary']=df.groupby('JobTitle')['Salary'].transform(lambda x:x.median())\n",
    "# df= df.dropna(axis=1,how='all')\n",
    "# df= df.dropna(subset=['Salary'])\n",
    "# df[\"Salary\"]=df.groupby(\"JobTitle\")[\"Salary\"].transform(lambda x:x.median())\n",
    "# df\n",
    "# df['LastName']=df['LastName'].fillna('Unknown')\n",
    "# df\n",
    "# df[['LastName','Firstname']]=df[['LastName','FirstName']].fillna('Unknown')\n",
    "# tab= tab.drop_duplicates(subset=['LastName'],keep='first')\n",
    "# print(tab)\n",
    "# tab.shape\n",
    "# tab['LastName']=tab['LastName'].str.extract(r'(\\b\\d{4}\\b)').astype(float)\n",
    "# tab\n",
    "# tab['LastName']=tab['LastName'].fillna(df['LastName'].mode()[0])\n",
    "# tab\n",
    "\n",
    "# bins=[0,50000,75000,100000]\n",
    "# labels=['Low','Medium','High']\n",
    "\n",
    "# tab['type']=pd.cut(tab['Salary'],bins=bins,labels=labels)\n",
    "# tab\n"
   ]
  },
  {
   "cell_type": "code",
   "execution_count": 89,
   "metadata": {},
   "outputs": [
    {
     "name": "stdout",
     "output_type": "stream",
     "text": [
      "0\n"
     ]
    }
   ],
   "source": [
    "# df = pd.read_csv('winemag-data-130k-v2.csv')\n",
    "# df.shape\n",
    "# df.head()\n",
    "# df.isna().sum()\n",
    "# df = df.dropna()\n",
    "# df.isna().sum()\n",
    "# df = df.dropna(subset=['country'])\n",
    "# df.head()\n",
    "# df.isna().sum()\n",
    "# df['country'] = df['country'].dropna()\n",
    "# df.isna().sum()\n",
    "# df = df.dropna(subset=['country'])\n",
    "# df.isna().sum()\n",
    "# df = df.fillna('Unknown')\n",
    "# df['price'].value_counts()\n",
    "# df['price'] = df['price'].fillna(df['price'].mean())\n",
    "# df = df[df['price'] != 'Unknown']\n",
    "# un=df['price'].value_counts()['Unknown']\n",
    "# print(df['price'].value_counts().get('Unknown', 0))"
   ]
  }
 ],
 "metadata": {
  "kernelspec": {
   "display_name": "Python 3",
   "language": "python",
   "name": "python3"
  },
  "language_info": {
   "codemirror_mode": {
    "name": "ipython",
    "version": 3
   },
   "file_extension": ".py",
   "mimetype": "text/x-python",
   "name": "python",
   "nbconvert_exporter": "python",
   "pygments_lexer": "ipython3",
   "version": "3.13.1"
  }
 },
 "nbformat": 4,
 "nbformat_minor": 2
}
