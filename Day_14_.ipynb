{
 "cells": [
  {
   "cell_type": "code",
   "execution_count": null,
   "metadata": {},
   "outputs": [
    {
     "data": {
      "text/plain": [
       "3"
      ]
     },
     "execution_count": 21,
     "metadata": {},
     "output_type": "execute_result"
    }
   ],
   "source": [
    "from operator import truediv , floordiv , mod \n",
    "\n",
    "floordiv(2,3)  # 0 \n",
    "truediv(2,3)  # 0.66666 \n",
    "mod(2,3)  # 2\n",
    "\n",
    "# def one(a,b):\n",
    "    # \"\"\"\n",
    "    # >>> one(2,3)\n",
    "    # 6\n",
    "    # \"\"\"\n",
    "    # return a*b\n",
    "    \n",
    "# def su(n):\n",
    "#     prev,pre = 0,1\n",
    "#     for i in range(n):\n",
    "#         prev,pre=pre,prev+pre\n",
    "#         print(pre)\n",
    "#     return pre\n",
    "        \n",
    "# su(20)\n",
    "\n",
    "# def sqr(x):\n",
    "#     return x*x\n",
    "# def cube(x):\n",
    "#     return x*x*x\n",
    "\n",
    "# def one(a,b):\n",
    "#     assert a>b ,\"salkak\"\n",
    "#     return a*b\n",
    "# one(3,2)\n",
    "\n",
    "# def speed(x,y):\n",
    "#     assert y>x and y<=2*x\n",
    "#     tor,hare,min=0,0,0\n",
    "#     while tor<hare or min==0:\n",
    "#         tor+=x\n",
    "#         if min%10<5:\n",
    "#             hare+=y\n",
    "#         min+=1\n",
    "#     return min\n",
    "# speed(10,15)\n",
    "\n",
    "# def fizzbuzz(n):\n",
    "#     i=1\n",
    "#     while i<n:\n",
    "#         if i%3==0 and i%5==0:\n",
    "#             print(\"fizzbuzz\")\n",
    "#         elif i%3==0:\n",
    "#             print(\"fizz\")\n",
    "#         elif i%5==0:\n",
    "#             print(\"buzz\")\n",
    "#         else:\n",
    "#             print(i)\n",
    "#         i+=1\n",
    "# fizzbuzz(20)\n",
    "\n",
    "# def prime(n):\n",
    "#     i=2\n",
    "#     while i<n:\n",
    "#         if n%i==0:\n",
    "#             return False\n",
    "#         i=i+1\n",
    "#     return True \n",
    "# prime(11)\n",
    "\n",
    "def uni(n):\n",
    "    lis=[]\n",
    "    ans=0\n",
    "    while n>0:\n",
    "        val=n%10\n",
    "        n//=10\n",
    "        if val not in lis:\n",
    "            lis.append(val)\n",
    "        else:\n",
    "            ans+=1\n",
    "        \n",
    "    return ans\n",
    "uni(1244444)\n",
    "        \n",
    "\n",
    "        "
   ]
  }
 ],
 "metadata": {
  "kernelspec": {
   "display_name": "Python 3",
   "language": "python",
   "name": "python3"
  },
  "language_info": {
   "codemirror_mode": {
    "name": "ipython",
    "version": 3
   },
   "file_extension": ".py",
   "mimetype": "text/x-python",
   "name": "python",
   "nbconvert_exporter": "python",
   "pygments_lexer": "ipython3",
   "version": "3.13.1"
  }
 },
 "nbformat": 4,
 "nbformat_minor": 2
}
