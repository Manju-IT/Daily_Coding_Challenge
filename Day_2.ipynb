{
 "cells": [
  {
   "cell_type": "code",
   "execution_count": 17,
   "metadata": {},
   "outputs": [],
   "source": [
    "import numpy as np\n",
    "# import pandas as pd \n",
    "import matplotlib.pyplot as plt\n",
    "# import pandas as pd \n",
    "# pd.Series([1,2,3,4,5])"
   ]
  },
  {
   "cell_type": "code",
   "execution_count": 9,
   "metadata": {},
   "outputs": [
    {
     "name": "stdout",
     "output_type": "stream",
     "text": [
      "[1 2 3 2 2 1]\n"
     ]
    },
    {
     "data": {
      "image/png": "[encoded data removed]",
      "text/plain": [
       "<Figure size 640x480 with 1 Axes>"
      ]
     },
     "metadata": {},
     "output_type": "display_data"
    }
   ],
   "source": [
    "a=np.array([1,2,3,2,2,1])\n",
    "type(a)\n",
    "print(a)\n",
    "plt.plot(a)\n",
    "plt.show()\n"
   ]
  },
  {
   "cell_type": "code",
   "execution_count": null,
   "metadata": {},
   "outputs": [],
   "source": []
  },
  {
   "cell_type": "code",
   "execution_count": 29,
   "metadata": {},
   "outputs": [],
   "source": [
    "# MEMORY CONSUMPTION: NDARRAY AND LIST\n",
    "\n",
    "# from sys import getsizeof as size \n",
    "\n",
    "# a= [1,2,2020002002022020202,202]\n",
    "# box_size= size(a)\n",
    "# ele_size=len(a)*size(a[0])\n",
    "# total_size = box_size +ele_size\n",
    "# print( box_size)\n",
    "# print(ele_size)\n",
    "# print(total_size)   # Same size for all\n",
    "\n",
    "# a= [1,2,2020002002022020202,202]\n",
    "# box_size= size(a)\n",
    "# all_size=[size(a[i]) for i in range(len(a))]\n",
    "# ele_size=sum(all_size)\n",
    "# total_size = box_size + ele_size\n",
    "# print( box_size)\n",
    "# print(ele_size)\n",
    "# print(total_size)  \n",
    "\n",
    "# a= np.array([])\n",
    "# b= np.array([1,2,20,20],np.int8)\n",
    "# print(size(a))\n",
    "# print(size(b))\n",
    "\n",
    "# from timeit import Timer \n",
    "\n",
    "# def pure_pyt():\n",
    "#     x= [i for i in range(10000)]\n",
    "#     return x\n",
    "\n",
    "# def num_py():\n",
    "#     return np.arange(1,10000)\n",
    "    \n",
    "# t1=Timer(\"pure_pyt()\",\"from __main__ import pure_pyt\")\n",
    "# t2= Timer(\"num_py()\", \"from __main__ import num_py\")\n",
    "\n",
    "# print(t1.timeit())\n",
    "# print(t2.timeit())\n",
    "# print(f\"{t1.timeit()/t2.timeit():7.2f}\")\n",
    "\n",
    "# np.arange(1,10,dtype=float)\n",
    "\n",
    "# np.linspace(1,10)\n",
    "# np.linspace(1,10,7)\n",
    "# np.linspace(1,10,7,endpoint=True)\n",
    "\n",
    "# a= np.array([[1,2,3,4,5,6],[1,2,3,4,5,6]])\n",
    "# print(a)\n",
    "# print(a.shape)\n",
    "# print(a.size)\n",
    "# print(a[1][4])\n",
    "# print(a[:2,:3])\n",
    "# print(a.transpose())\n",
    "# print(a.reshape(4,3))\n",
    "# x= a.copy()\n",
    "# print(x)\n",
    "\n",
    "# i = np.dtype([(\"density\",np.int32)])\n",
    "# a= np.array([(323,),(323,),(32,)],dtype=i)\n",
    "# print(a)\n",
    "# print(a[\"density\"])\n",
    "\n",
    "# i = np.dtype([(\"name\",np.str_,20),(\"age\",np.int16)])\n",
    "# ans= np.array([(\"smansn\",20),(\"sasan\",20),(\"sasjah\",30)],dtype=i)\n",
    "# # print(ans)\n",
    "# # np.savetxt(\"sample_pandas_ex.csv\",ans,fmt=\"%s;%d\")\n",
    "# df=pd.DataFrame(ans)\n",
    "# df.to_csv(\"sample_csv_using_pandas.csv\",index=False)\n",
    "\n",
    "# dt = np.dtype([('country', np.str_, 20),\n",
    "# ('density', 'i4'),\n",
    "# ('area', 'i4'),\n",
    "# ('population', 'i4')])\n",
    "# population_table = np.array([\n",
    "# ('Netherlands', 393, 41526, 16928800),\n",
    "# ('Belgium', 337, 30510, 11007020),\n",
    "# ('United Kingdom', 256, 243610, 62262000),\n",
    "# ('Germany', 233, 357021, 81799600),\n",
    "# ('Liechtenstein', 205, 160, 32842),\n",
    "\n",
    "# ('Italy', 192, 301230, 59715625),\n",
    "# ('Switzerland', 177, 41290, 7301994),\n",
    "# ('Luxembourg', 173, 2586, 512000),\n",
    "# ('France', 111, 547030, 63601002),\n",
    "# ('Austria', 97, 83858, 8169929),\n",
    "# ('Greece', 81, 131940, 11606813),\n",
    "# ('Ireland', 65, 70280, 4581269),\n",
    "# ('Sweden', 20, 449964, 9515744),\n",
    "# ('Finland', 16, 338424, 5410233),\n",
    "# ('Norway', 13, 385252, 5033675)],\n",
    "# dtype=dt)\n",
    "# np.savetxt(\"population_table.csv\",\n",
    "# population_table,\n",
    "# fmt=\"%s;%d;%d;%d\",\n",
    "# delimiter=\";\")\n",
    "# x= np.genfromtxt(\"sample_csv_using_pandas.csv\",dtype=i)\n",
    "# print(x)"
   ]
  },
  {
   "cell_type": "code",
   "execution_count": 1,
   "metadata": {},
   "outputs": [
    {
     "ename": "NameError",
     "evalue": "name 'np' is not defined",
     "output_type": "error",
     "traceback": [
      "\u001b[1;31m---------------------------------------------------------------------------\u001b[0m",
      "\u001b[1;31mNameError\u001b[0m                                 Traceback (most recent call last)",
      "Cell \u001b[1;32mIn[1], line 3\u001b[0m\n\u001b[0;32m      1\u001b[0m \u001b[38;5;66;03m### NUMERICAL OPERATIONS ON NUMPY ARRAYS\u001b[39;00m\n\u001b[1;32m----> 3\u001b[0m a\u001b[38;5;241m=\u001b[39m \u001b[43mnp\u001b[49m\u001b[38;5;241m.\u001b[39marray([ [\u001b[38;5;241m11\u001b[39m, \u001b[38;5;241m12\u001b[39m, \u001b[38;5;241m13\u001b[39m], [\u001b[38;5;241m21\u001b[39m, \u001b[38;5;241m22\u001b[39m, \u001b[38;5;241m23\u001b[39m], [\u001b[38;5;241m31\u001b[39m, \u001b[38;5;241m32\u001b[39m, \u001b[38;5;241m33\u001b[39m] ])\n\u001b[0;32m      4\u001b[0m b\u001b[38;5;241m=\u001b[39m np\u001b[38;5;241m.\u001b[39mones((\u001b[38;5;241m3\u001b[39m,\u001b[38;5;241m3\u001b[39m))\n\u001b[0;32m      5\u001b[0m \u001b[38;5;66;03m# c= np.array([1,2,3])\u001b[39;00m\n\u001b[0;32m      6\u001b[0m \u001b[38;5;66;03m# # print(a+b)\u001b[39;00m\n\u001b[0;32m      7\u001b[0m \u001b[38;5;66;03m# # print(a-b)\u001b[39;00m\n\u001b[1;32m   (...)\u001b[0m\n\u001b[0;32m     16\u001b[0m \u001b[38;5;66;03m# print(d)\u001b[39;00m\n\u001b[0;32m     17\u001b[0m \u001b[38;5;66;03m# print(d[:,np.newaxis])\u001b[39;00m\n",
      "\u001b[1;31mNameError\u001b[0m: name 'np' is not defined"
     ]
    }
   ],
   "source": [
    "### NUMERICAL OPERATIONS ON NUMPY ARRAYS\n",
    "\n",
    "a= np.array([ [11, 12, 13], [21, 22, 23], [31, 32, 33] ])\n",
    "b= np.ones((3,3))\n",
    "# c= np.array([1,2,3])\n",
    "# # print(a+b)\n",
    "# # print(a-b)\n",
    "# # print(np.dot(a,b))\n",
    "# # print(a*b)\n",
    "\n",
    "# ma1=np.matrix(a)\n",
    "# ma2=np.matrix(b)\n",
    "# # print(ma1*ma2)\n",
    "# # print(ma1>ma2)\n",
    "# d= a*c\n",
    "# print(d)\n",
    "# print(d[:,np.newaxis])\n"
   ]
  },
  {
   "cell_type": "code",
   "execution_count": null,
   "metadata": {},
   "outputs": [],
   "source": []
  }
 ],
 "metadata": {
  "kernelspec": {
   "display_name": "Python 3",
   "language": "python",
   "name": "python3"
  },
  "language_info": {
   "codemirror_mode": {
    "name": "ipython",
    "version": 3
   },
   "file_extension": ".py",
   "mimetype": "text/x-python",
   "name": "python",
   "nbconvert_exporter": "python",
   "pygments_lexer": "ipython3",
   "version": "3.13.1"
  }
 },
 "nbformat": 4,
 "nbformat_minor": 2
}
