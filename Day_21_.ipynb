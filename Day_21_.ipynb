{
 "cells": [
  {
   "cell_type": "code",
   "execution_count": null,
   "metadata": {},
   "outputs": [],
   "source": [
    "# import requests \n",
    "# from bs4 import BeautifulSoup "
   ]
  },
  {
   "cell_type": "code",
   "execution_count": null,
   "metadata": {},
   "outputs": [],
   "source": [
    "# # url = \"https://beautiful-soup-4.readthedocs.io/en/latest/#making-the-soup\"\n",
    "# # res = requests.get(url).text\n",
    "# # soup = BeautifulSoup(res,\"lxml\")\n",
    "# # ans = soup.find_all(class_=\"n\")\n",
    "# # for i in ans:\n",
    "# #     print(i.text)\n",
    "# # sib = soup.a\n",
    "# # print(sib.previous_sibling)\n",
    "# url = \"https://www.timesjobs.com/candidate/job-search.html?searchType=Home_Search&from=submit&asKey=OFF&txtKeywords=&cboPresFuncArea=35&clusterName=CLUSTER_FA&hc=CLUSTER_FA\"\n",
    "# res = requests.get(url).text\n",
    "# soup = BeautifulSoup(res,\"lxml\")\n",
    "# job = soup.find(\"li\",class_ = \"clearfix job-bx wht-shd-bx\")\n",
    "# # print(job)\n",
    "# for i in job:\n",
    "#     # print(i.text)\n",
    "#     # jobs= soup.find('h3',class_=\"joblist-comp-name\")\n",
    "#     # print(jobs.text.strip())\n",
    "#     # link=i.find(\"a\")\n",
    "#     # print(link)\n",
    " \n",
    "#     info = job.header.h2.a[\"href\"]\n",
    "#     print(info )"
   ]
  },
  {
   "cell_type": "code",
   "execution_count": null,
   "metadata": {
    "vscode": {
     "languageId": "sql"
    }
   },
   "outputs": [],
   "source": [
    "CREATE TABLE co (\n",
    "    order_id INT PRIMARY KEY AUTO_INCREMENT,\n",
    "    c_name VARCHAR(100) NOT NULL,\n",
    "    c_num VARCHAR(15) NOT NULL,\n",
    "    email VARCHAR(100) UNIQUE NOT NULL,\n",
    "    address TEXT NOT NULL,\n",
    "    a_type ENUM('Hen', 'Sheep', 'Goat', 'Pig', 'Cow', 'Buffalo') NOT NULL,\n",
    "    quantity INT CHECK (quantity > 0),\n",
    "    ppu DECIMAL(10,2) CHECK (ppu > 0),\n",
    "    tp DECIMAL(10,2) GENERATED ALWAYS AS (quantity * ppu) STORED,\n",
    "    os ENUM('Pending', 'Shipped', 'Delivered', 'Cancelled', 'Returned') DEFAULT 'Pending',\n",
    "    ps ENUM('Paid', 'Pending', 'Failed', 'Refunded') DEFAULT 'Pending',\n",
    "    d_date DATE DEFAULT NULL,\n",
    "    o_date TIMESTAMP DEFAULT CURRENT_TIMESTAMP,\n",
    "    last_updated TIMESTAMP DEFAULT CURRENT_TIMESTAMP ON UPDATE CURRENT_TIMESTAMP\n",
    ");"
   ]
  }
 ],
 "metadata": {
  "kernelspec": {
   "display_name": "Python 3",
   "language": "python",
   "name": "python3"
  },
  "language_info": {
   "codemirror_mode": {
    "name": "ipython",
    "version": 3
   },
   "file_extension": ".py",
   "mimetype": "text/x-python",
   "name": "python",
   "nbconvert_exporter": "python",
   "pygments_lexer": "ipython3",
   "version": "3.13.1"
  }
 },
 "nbformat": 4,
 "nbformat_minor": 2
}
